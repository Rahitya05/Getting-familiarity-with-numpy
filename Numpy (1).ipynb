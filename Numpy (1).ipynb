{
 "cells": [
  {
   "cell_type": "markdown",
   "id": "797e43a9-f4e5-485d-a783-343413b353ca",
   "metadata": {},
   "source": [
    "# GETTING FAMILIARITY WITH NUMPY\r\n"
   ]
  },
  {
   "cell_type": "markdown",
   "id": "748374e5-74ff-4335-b371-a696382a290f",
   "metadata": {},
   "source": [
    "Getting familiar with NumPy involves practicing its core functionalities, which are essential for numerical and data manipulation tasks in Python. Here's a step-by-step approach to help you get comfortable with NumPy:"
   ]
  },
  {
   "cell_type": "markdown",
   "id": "d9f1e58c-1506-4e14-9d06-68adec2ccb64",
   "metadata": {},
   "source": [
    "## Installation of Numpy package"
   ]
  },
  {
   "cell_type": "code",
   "execution_count": 1,
   "id": "5c2442dd-948d-4f8e-9361-fe3dd46e01a7",
   "metadata": {},
   "outputs": [
    {
     "name": "stdout",
     "output_type": "stream",
     "text": [
      "Requirement already satisfied: numpy in c:\\users\\p.rahitya\\anaconda3\\lib\\site-packages (1.26.4)\n",
      "Note: you may need to restart the kernel to use updated packages.\n"
     ]
    }
   ],
   "source": [
    "pip install numpy"
   ]
  },
  {
   "cell_type": "markdown",
   "id": "e372fc63-2bfb-4fc5-b33e-3f904aa609cc",
   "metadata": {},
   "source": [
    "#### Importing Numpy package"
   ]
  },
  {
   "cell_type": "code",
   "execution_count": 2,
   "id": "2bf10a64-2242-41f6-b769-d930453bc3d3",
   "metadata": {},
   "outputs": [],
   "source": [
    "import numpy "
   ]
  },
  {
   "cell_type": "markdown",
   "id": "8fdab593-b2dc-431f-89ab-d1691d3dce42",
   "metadata": {},
   "source": [
    "## Basic operations"
   ]
  },
  {
   "cell_type": "markdown",
   "id": "91b84f15-330a-4899-a699-60ddbc5b58ee",
   "metadata": {},
   "source": [
    "#### 1. Creating numpy array"
   ]
  },
  {
   "cell_type": "markdown",
   "id": "91a04ec2-3c5f-4ee3-b458-f7c3b34337f8",
   "metadata": {},
   "source": [
    "creating a numpy array can be done by passing python list or tuple of elemets"
   ]
  },
  {
   "cell_type": "code",
   "execution_count": 4,
   "id": "39fdf954-0ed9-4e65-8fd0-59fdca3c3206",
   "metadata": {},
   "outputs": [],
   "source": [
    "data=numpy.array([1,2,3,4,5])"
   ]
  },
  {
   "cell_type": "markdown",
   "id": "18a5b202-a20e-415c-a5b8-cbf6681437bd",
   "metadata": {},
   "source": [
    "#### 2. Accessing elements"
   ]
  },
  {
   "cell_type": "code",
   "execution_count": 5,
   "id": "6196e42f-b76b-4bf2-a009-e885612f8e2b",
   "metadata": {},
   "outputs": [
    {
     "name": "stdout",
     "output_type": "stream",
     "text": [
      "1\n"
     ]
    }
   ],
   "source": [
    "print(data[0])"
   ]
  },
  {
   "cell_type": "code",
   "execution_count": 6,
   "id": "0cbfbba5-b4f8-4aac-bd79-f0fd4cef513d",
   "metadata": {},
   "outputs": [
    {
     "name": "stdout",
     "output_type": "stream",
     "text": [
      "2\n"
     ]
    }
   ],
   "source": [
    "print(data[1])"
   ]
  },
  {
   "cell_type": "markdown",
   "id": "9d380bb5-2baa-4edc-a448-5386fb16fdf8",
   "metadata": {},
   "source": [
    "#### 3. Slicing"
   ]
  },
  {
   "cell_type": "code",
   "execution_count": 8,
   "id": "867f5b76-1c2b-48ae-99c6-61a97ad008a1",
   "metadata": {},
   "outputs": [
    {
     "name": "stdout",
     "output_type": "stream",
     "text": [
      "[2 3 4]\n"
     ]
    }
   ],
   "source": [
    "print(data[1:4])"
   ]
  },
  {
   "cell_type": "code",
   "execution_count": 9,
   "id": "f33ddb5d-02db-4673-af56-46cb1a31c52c",
   "metadata": {},
   "outputs": [
    {
     "name": "stdout",
     "output_type": "stream",
     "text": [
      "[3 4 5]\n"
     ]
    }
   ],
   "source": [
    "print(data[2:])"
   ]
  },
  {
   "cell_type": "markdown",
   "id": "ed1c8f7e-0d32-42af-80e1-e07fb83b47fc",
   "metadata": {},
   "source": [
    "## Mathematical Operation on Numpy arrays"
   ]
  },
  {
   "cell_type": "markdown",
   "id": "e5c03f85-e73d-411b-a7e9-1cb3e7ba3be5",
   "metadata": {},
   "source": [
    "NumPy provides a wide range of mathematical operations that can be performed on arrays. These operations are typically element-wise, meaning they operate on each element of the array individually. Below are some common mathematical operations you can perform with NumPy arrays:"
   ]
  },
  {
   "cell_type": "code",
   "execution_count": 10,
   "id": "1fa5d6ac-7695-42a3-9475-03c5194f29da",
   "metadata": {},
   "outputs": [],
   "source": [
    "#creating two numpy arrays of same size\n",
    "array1=numpy.array([1,3,5,7,9])\n",
    "array2=numpy.array([0,2,4,6,8])"
   ]
  },
  {
   "cell_type": "markdown",
   "id": "c03024f0-48fa-4702-ae88-10ad00837304",
   "metadata": {},
   "source": [
    "#### Addition"
   ]
  },
  {
   "cell_type": "code",
   "execution_count": 11,
   "id": "8c4317ff-b908-4e15-9add-3d779635e17a",
   "metadata": {},
   "outputs": [
    {
     "data": {
      "text/plain": [
       "array([ 1,  5,  9, 13, 17])"
      ]
     },
     "execution_count": 11,
     "metadata": {},
     "output_type": "execute_result"
    }
   ],
   "source": [
    "array1+array2"
   ]
  },
  {
   "cell_type": "markdown",
   "id": "18690205-4e53-4e5a-9fea-38b056f65b77",
   "metadata": {},
   "source": [
    "#### Subtraction"
   ]
  },
  {
   "cell_type": "code",
   "execution_count": 12,
   "id": "695a9fcf-679f-4ab6-9d57-a7b4efc54ce7",
   "metadata": {},
   "outputs": [
    {
     "data": {
      "text/plain": [
       "array([1, 1, 1, 1, 1])"
      ]
     },
     "execution_count": 12,
     "metadata": {},
     "output_type": "execute_result"
    }
   ],
   "source": [
    "array1-array2"
   ]
  },
  {
   "cell_type": "markdown",
   "id": "f59ec2b5-6e2e-47ab-a896-787223e0aadc",
   "metadata": {},
   "source": [
    "#### Multiplication"
   ]
  },
  {
   "cell_type": "code",
   "execution_count": 13,
   "id": "4552e859-a79d-4733-bdd6-4adee1452071",
   "metadata": {},
   "outputs": [
    {
     "data": {
      "text/plain": [
       "array([ 0,  6, 20, 42, 72])"
      ]
     },
     "execution_count": 13,
     "metadata": {},
     "output_type": "execute_result"
    }
   ],
   "source": [
    "array1*array2"
   ]
  },
  {
   "cell_type": "markdown",
   "id": "57918cc2-6c1c-42d9-a39f-b98d57636607",
   "metadata": {},
   "source": [
    "#### Division"
   ]
  },
  {
   "cell_type": "code",
   "execution_count": 15,
   "id": "138faced-ed83-4b08-8f0e-033839c883d1",
   "metadata": {},
   "outputs": [
    {
     "data": {
      "text/plain": [
       "array([0.        , 0.66666667, 0.8       , 0.85714286, 0.88888889])"
      ]
     },
     "execution_count": 15,
     "metadata": {},
     "output_type": "execute_result"
    }
   ],
   "source": [
    "array2/array1"
   ]
  },
  {
   "cell_type": "markdown",
   "id": "04d034ba-3af9-4c2e-a92b-990898e081f3",
   "metadata": {},
   "source": [
    "## Understanding Array properties"
   ]
  },
  {
   "cell_type": "markdown",
   "id": "d74fb869-aad3-403c-b640-ba06a58b41a4",
   "metadata": {},
   "source": [
    "Understanding the properties of NumPy arrays is essential for effectively working with them in your computations. Below are some key properties of NumPy arrays that you should be familiar with:"
   ]
  },
  {
   "cell_type": "code",
   "execution_count": 17,
   "id": "9e6543df-5789-4aa7-a1f5-a35e3f976e6d",
   "metadata": {},
   "outputs": [],
   "source": [
    "import numpy as np"
   ]
  },
  {
   "cell_type": "markdown",
   "id": "f6eb4486-8a64-436b-bcf2-0c6ea314c2e4",
   "metadata": {},
   "source": [
    "#### Shape"
   ]
  },
  {
   "cell_type": "markdown",
   "id": "341b4833-42f9-4f1d-b797-a9c80879a1e2",
   "metadata": {},
   "source": [
    "The shape of a NumPy array tells you the dimensions of the array. It is represented as a tuple of integers, where each integer corresponds to the size of the array along a particular dimension."
   ]
  },
  {
   "cell_type": "code",
   "execution_count": 18,
   "id": "587333ce-42e8-48fb-a23d-0f7118871844",
   "metadata": {},
   "outputs": [
    {
     "name": "stdout",
     "output_type": "stream",
     "text": [
      "(2, 3)\n"
     ]
    }
   ],
   "source": [
    "arr = np.array([[1, 2, 3], [4, 5, 6]])\n",
    "print(arr.shape)"
   ]
  },
  {
   "cell_type": "markdown",
   "id": "4961970b-75c4-44a7-8022-c4be026319b3",
   "metadata": {},
   "source": [
    "This indicates that 'arr' is a 2x3 matrix (2 rows, 3 columns)"
   ]
  },
  {
   "cell_type": "markdown",
   "id": "ec9fccf6-cb7c-470b-98e8-971fb88686e8",
   "metadata": {},
   "source": [
    "#### Number of Dimensions"
   ]
  },
  {
   "cell_type": "markdown",
   "id": "438df050-178e-4d6b-a546-e23870b9e919",
   "metadata": {},
   "source": [
    "The 'ndim' property gives the number of dimensions (axes) of the array."
   ]
  },
  {
   "cell_type": "code",
   "execution_count": 19,
   "id": "2a181c7e-c02a-49ce-97fd-e17d46bd6ee8",
   "metadata": {},
   "outputs": [
    {
     "name": "stdout",
     "output_type": "stream",
     "text": [
      "1\n"
     ]
    }
   ],
   "source": [
    "arr = np.array([1, 2, 3])\n",
    "print(arr.ndim)"
   ]
  },
  {
   "cell_type": "code",
   "execution_count": 20,
   "id": "f9aca142-b0ca-4d53-a7d1-76c1f4e8f0d4",
   "metadata": {},
   "outputs": [
    {
     "name": "stdout",
     "output_type": "stream",
     "text": [
      "2\n"
     ]
    }
   ],
   "source": [
    "arr = np.array([[1, 2, 3], [4, 5, 6]])\n",
    "print(arr.ndim) "
   ]
  },
  {
   "cell_type": "markdown",
   "id": "d93042e4-a2fe-4d88-9525-57e1d854240e",
   "metadata": {},
   "source": [
    "#### Size"
   ]
  },
  {
   "cell_type": "markdown",
   "id": "5a85fb5f-42a6-46da-a8a2-e252c17627f4",
   "metadata": {},
   "source": [
    "The 'size' property gives the total number of elements in the array."
   ]
  },
  {
   "cell_type": "code",
   "execution_count": 21,
   "id": "a9edb40b-6879-4783-ba62-e726030f2ae5",
   "metadata": {},
   "outputs": [
    {
     "name": "stdout",
     "output_type": "stream",
     "text": [
      "6\n"
     ]
    }
   ],
   "source": [
    "arr = np.array([[1, 2, 3], [4, 5, 6]])\n",
    "print(arr.size)"
   ]
  },
  {
   "cell_type": "markdown",
   "id": "a92c3d3d-c313-4854-9fd7-a2316ada93ee",
   "metadata": {},
   "source": [
    "#### Data type"
   ]
  },
  {
   "cell_type": "markdown",
   "id": "32410f8c-9c3b-4c64-9980-5c68c199b00c",
   "metadata": {},
   "source": [
    "The 'dtype' property shows the data type of the elements in the array. NumPy arrays are homogeneous, meaning all elements must be of the same type."
   ]
  },
  {
   "cell_type": "code",
   "execution_count": 23,
   "id": "4094727a-1317-46aa-ab74-2fa99d273334",
   "metadata": {},
   "outputs": [
    {
     "name": "stdout",
     "output_type": "stream",
     "text": [
      "int32\n"
     ]
    }
   ],
   "source": [
    "arr = np.array([1, 2, 3])\n",
    "print(arr.dtype)"
   ]
  },
  {
   "cell_type": "code",
   "execution_count": 24,
   "id": "cca98bca-9933-48ee-a261-00b7421e82b5",
   "metadata": {},
   "outputs": [
    {
     "name": "stdout",
     "output_type": "stream",
     "text": [
      "float64\n"
     ]
    }
   ],
   "source": [
    "arr = np.array([1.0, 2.0, 3.0])\n",
    "print(arr.dtype)"
   ]
  },
  {
   "cell_type": "markdown",
   "id": "82c2a7dd-c303-4a77-9f34-e5512bb4b4b1",
   "metadata": {},
   "source": [
    "#### Transposition"
   ]
  },
  {
   "cell_type": "markdown",
   "id": "f67b555c-d6c7-44cb-ad4b-a58e1dba775a",
   "metadata": {},
   "source": [
    "The 'T' attribute transposes the array (i.e., flips it over its diagonal)."
   ]
  },
  {
   "cell_type": "code",
   "execution_count": 25,
   "id": "ae6fbe55-9630-4ae5-8bc3-fc9d6584bdf9",
   "metadata": {},
   "outputs": [
    {
     "name": "stdout",
     "output_type": "stream",
     "text": [
      "[[1 4]\n",
      " [2 5]\n",
      " [3 6]]\n"
     ]
    }
   ],
   "source": [
    "arr = np.array([[1, 2, 3], [4, 5, 6]])\n",
    "print(arr.T)"
   ]
  },
  {
   "cell_type": "markdown",
   "id": "841ce155-a2e9-48ca-94c7-77d7f0828d5f",
   "metadata": {},
   "source": [
    "#### Flattening"
   ]
  },
  {
   "cell_type": "markdown",
   "id": "18d2ec8e-875e-4ff9-8401-bdf0a4bab1aa",
   "metadata": {},
   "source": [
    "These methods flatten a multi-dimensional array into a 1D array."
   ]
  },
  {
   "cell_type": "code",
   "execution_count": 26,
   "id": "354f81f3-e71f-4c6c-be69-ec602ff0b07a",
   "metadata": {},
   "outputs": [
    {
     "name": "stdout",
     "output_type": "stream",
     "text": [
      "[1 2 3 4 5 6]\n"
     ]
    }
   ],
   "source": [
    "arr = np.array([[1, 2, 3], [4, 5, 6]])\n",
    "flat_arr = arr.flatten()\n",
    "print(flat_arr)"
   ]
  },
  {
   "cell_type": "markdown",
   "id": "77d00e5c-e98c-4cd1-b743-9905f924b6bf",
   "metadata": {},
   "source": [
    "#### View"
   ]
  },
  {
   "cell_type": "markdown",
   "id": "5dcd0bc3-5483-4694-a273-1f652c89a204",
   "metadata": {},
   "source": [
    "A view is a new array object that looks at the same data of the original array. Modifying the view will modify the original array."
   ]
  },
  {
   "cell_type": "code",
   "execution_count": 27,
   "id": "0bcf647a-7226-47df-b8e5-f471d2c862d7",
   "metadata": {},
   "outputs": [
    {
     "name": "stdout",
     "output_type": "stream",
     "text": [
      "[ 1 10  3  4]\n"
     ]
    }
   ],
   "source": [
    "arr = np.array([1, 2, 3, 4])\n",
    "view = arr[1:3]  # View\n",
    "view[0] = 10\n",
    "print(arr)"
   ]
  },
  {
   "cell_type": "markdown",
   "id": "2ceb395e-b6c1-478d-9c69-8501edd5f7da",
   "metadata": {},
   "source": [
    "A copy creates a new array with a new data buffer. Modifying the copy will not affect the original array.\n"
   ]
  },
  {
   "cell_type": "code",
   "execution_count": 28,
   "id": "aedb73e8-2bb3-4706-b364-2113cbbd8d4c",
   "metadata": {},
   "outputs": [
    {
     "name": "stdout",
     "output_type": "stream",
     "text": [
      "[1 2 3 4]\n"
     ]
    }
   ],
   "source": [
    "arr = np.array([1, 2, 3, 4])\n",
    "copy = arr[1:3].copy()  # Copy\n",
    "copy[0] = 20\n",
    "print(arr)"
   ]
  },
  {
   "cell_type": "markdown",
   "id": "bc6ca25d-3ccb-48a5-a96b-a4a8458d236e",
   "metadata": {},
   "source": [
    "# Writing a Program in Python to Manipulate, Aggregate and Analyze data using Numpy."
   ]
  },
  {
   "cell_type": "markdown",
   "id": "1f0f24b9-d9ec-418c-96c4-c2e2f650dd95",
   "metadata": {},
   "source": [
    "let us know what is Data Manipulation, Aggregation and Analysis"
   ]
  },
  {
   "attachments": {},
   "cell_type": "markdown",
   "id": "ffc6eef8-ec28-48c0-86dc-237b58a285c6",
   "metadata": {},
   "source": [
    "## Data Manipulation\n",
    "Data manipulation in NumPy involves a range of techniques for reshaping, modifying, and processing arrays to meet specific needs. NumPy provides a powerful and flexible set of functions to handle and manipulate data efficiently.\n",
    "\n",
    "## Data Aggregation\n",
    "Data aggregation in NumPy involves summarizing or combining data to provide useful insights and statistics. Aggregation functions compute summary statistics across different dimensions of arrays or across specified elements. \n",
    "\n",
    "## Data Analysis\n",
    "Data analysis with NumPy involves extracting insights from data through various statistical and mathematical techniques. NumPy provides a robust set of tools for analyzing numerical data, enabling users to perform operations such as finding outliers, correlations, and calculating percentiles."
   ]
  },
  {
   "cell_type": "markdown",
   "id": "26a46ad2-5151-4373-826e-f8ea8b2a7b77",
   "metadata": {},
   "source": [
    "### Example Program"
   ]
  },
  {
   "cell_type": "markdown",
   "id": "b412dd04-476c-4a43-ac58-619727e6852e",
   "metadata": {},
   "source": [
    "let us import numpy package as np for our convience. \n",
    "and then create a dataset which consists of student's Roll Number and their Marks. "
   ]
  },
  {
   "cell_type": "code",
   "execution_count": 30,
   "id": "4d3d2896-5c67-418e-a353-5fc29c7ed47b",
   "metadata": {},
   "outputs": [],
   "source": [
    "#importing numpy package\n",
    "import numpy as np"
   ]
  },
  {
   "cell_type": "code",
   "execution_count": 34,
   "id": "f142fa45-2d4e-4480-9d9c-fae6e9752a0a",
   "metadata": {},
   "outputs": [],
   "source": [
    "#creating smaple dataset\n",
    "# Each row represents a student; columns represent Roll No, Math, Physis, Science, English, History\n",
    "students_data = np.array([\n",
    "    [101, 85, 92, 78, 90, 89],\n",
    "    [102, 76, 85, 80, 88, 92],\n",
    "    [103, 89, 94, 92, 95, 91],\n",
    "    [104, 65, 70, 72, 68, 74],\n",
    "    [105, 91, 85, 87, 93, 90],\n",
    "    [106, 78, 82, 84, 79, 85],\n",
    "    [107, 88, 90, 86, 92, 87],\n",
    "    [108, 95, 98, 99, 100, 97],\n",
    "    [109, 70, 75, 73, 78, 72],\n",
    "    [110, 84, 88, 85, 87, 90]\n",
    "])\n",
    "columns=np.array(['Roll_no','Math','Physis','Science','English','History'])"
   ]
  },
  {
   "cell_type": "code",
   "execution_count": 35,
   "id": "f99c783c-45ac-4d52-b24b-ab15da048279",
   "metadata": {},
   "outputs": [
    {
     "name": "stdout",
     "output_type": "stream",
     "text": [
      "['Roll_no' 'Math' 'Physis' 'Science' 'English' 'History']\n",
      "[[101  85  92  78  90  89]\n",
      " [102  76  85  80  88  92]\n",
      " [103  89  94  92  95  91]\n",
      " [104  65  70  72  68  74]\n",
      " [105  91  85  87  93  90]\n",
      " [106  78  82  84  79  85]\n",
      " [107  88  90  86  92  87]\n",
      " [108  95  98  99 100  97]\n",
      " [109  70  75  73  78  72]\n",
      " [110  84  88  85  87  90]]\n"
     ]
    }
   ],
   "source": [
    "print(columns)\n",
    "print(students_data)"
   ]
  },
  {
   "cell_type": "code",
   "execution_count": 33,
   "id": "cb5a7294-85c0-4279-8be5-e883e88c1f16",
   "metadata": {},
   "outputs": [],
   "source": [
    "# Separating roll numbers and marks\n",
    "roll_numbers = students_data[:, 0]\n",
    "marks = students_data[:, 1:]"
   ]
  },
  {
   "cell_type": "markdown",
   "id": "3d971134-53fb-482f-877b-26cfaa89bcfa",
   "metadata": {},
   "source": [
    "#### Data Manipulation\n"
   ]
  },
  {
   "cell_type": "code",
   "execution_count": 36,
   "id": "00c8cb47-b33e-44e8-82dd-1a4ec0ea4bec",
   "metadata": {},
   "outputs": [
    {
     "name": "stdout",
     "output_type": "stream",
     "text": [
      "\n",
      "Total Marks for Each Student:\n",
      "Roll No: 101, Total Marks: 434\n",
      "Roll No: 102, Total Marks: 421\n",
      "Roll No: 103, Total Marks: 461\n",
      "Roll No: 104, Total Marks: 349\n",
      "Roll No: 105, Total Marks: 446\n",
      "Roll No: 106, Total Marks: 408\n",
      "Roll No: 107, Total Marks: 443\n",
      "Roll No: 108, Total Marks: 489\n",
      "Roll No: 109, Total Marks: 368\n",
      "Roll No: 110, Total Marks: 434\n"
     ]
    }
   ],
   "source": [
    "# 1. Calculate total marks for each student\n",
    "total_marks = np.sum(marks, axis=1)\n",
    "print(\"\\nTotal Marks for Each Student:\")\n",
    "for roll_no, total in zip(roll_numbers, total_marks):\n",
    "    print(f\"Roll No: {roll_no}, Total Marks: {total}\")"
   ]
  },
  {
   "cell_type": "code",
   "execution_count": 43,
   "id": "6f1fe05f-1388-45a0-9eb8-b9aa22d1a011",
   "metadata": {},
   "outputs": [
    {
     "name": "stdout",
     "output_type": "stream",
     "text": [
      "\n",
      "Students' Marks with Total Marks Column:\n",
      "[[101  85  92  78  90  89 434]\n",
      " [102  76  85  80  88  92 421]\n",
      " [103  89  94  92  95  91 461]\n",
      " [104  65  70  72  68  74 349]\n",
      " [105  91  85  87  93  90 446]\n",
      " [106  78  82  84  79  85 408]\n",
      " [107  88  90  86  92  87 443]\n",
      " [108  95  98  99 100  97 489]\n",
      " [109  70  75  73  78  72 368]\n",
      " [110  84  88  85  87  90 434]]\n"
     ]
    }
   ],
   "source": [
    "# 2. Add total marks as a new column\n",
    "total_marks=total_marks.reshape(-1,1)\n",
    "#new_columns=np.concatenate(columns,'Total')\n",
    "#print(new_columns)\n",
    "students_data_with_total = np.concatenate((students_data, total_marks),axis=1)\n",
    "print(\"\\nStudents' Marks with Total Marks Column:\")\n",
    "print(students_data_with_total)"
   ]
  },
  {
   "cell_type": "code",
   "execution_count": 46,
   "id": "665abd13-c3f1-4f64-a94d-c8e5bae77c28",
   "metadata": {},
   "outputs": [
    {
     "name": "stdout",
     "output_type": "stream",
     "text": [
      "\n",
      "Students' Marks with Minimum Passing Marks Applied:\n",
      "[[101  85  92  78  90  89]\n",
      " [102  76  85  80  88  92]\n",
      " [103  89  94  92  95  91]\n",
      " [104  75  75  75  75  75]\n",
      " [105  91  85  87  93  90]\n",
      " [106  78  82  84  79  85]\n",
      " [107  88  90  86  92  87]\n",
      " [108  95  98  99 100  97]\n",
      " [109  75  75  75  78  75]\n",
      " [110  84  88  85  87  90]]\n"
     ]
    }
   ],
   "source": [
    "# 3. Replace marks below 75 with '75' to simulate minimum passing marks\n",
    "marks_passing = np.where(marks < 75, 75, marks)\n",
    "students_data_passing = np.concatenate((roll_numbers.reshape(-1, 1), marks_passing),axis=1)\n",
    "print(\"\\nStudents' Marks with Minimum Passing Marks Applied:\")\n",
    "print(students_data_passing)\n"
   ]
  },
  {
   "cell_type": "markdown",
   "id": "5338fd64-10dc-4118-967f-4bf74bc9e3f2",
   "metadata": {},
   "source": [
    "#### Data Aggregation"
   ]
  },
  {
   "cell_type": "code",
   "execution_count": 47,
   "id": "db5e46ac-a102-41c5-a3a6-86af1dd744f4",
   "metadata": {},
   "outputs": [
    {
     "name": "stdout",
     "output_type": "stream",
     "text": [
      "\n",
      "Mean Marks in Each Subject:\n",
      "Math: 82.10\n",
      "Science: 85.90\n",
      "physis: 83.60\n",
      "English: 87.00\n",
      "History: 86.70\n"
     ]
    }
   ],
   "source": [
    "# 1. Compute the mean marks in each subject\n",
    "mean_marks_per_subject = np.mean(marks, axis=0)\n",
    "print(\"\\nMean Marks in Each Subject:\")\n",
    "subjects = [\"Math\", \"Science\", \"physis\", \"English\", \"History\"]\n",
    "for subject, mean in zip(subjects, mean_marks_per_subject):\n",
    "    print(f\"{subject}: {mean:.2f}\")\n"
   ]
  },
  {
   "cell_type": "code",
   "execution_count": 48,
   "id": "f3478f5d-f74f-4453-8a37-a71b98efa4b4",
   "metadata": {},
   "outputs": [
    {
     "name": "stdout",
     "output_type": "stream",
     "text": [
      "\n",
      "Highest Marks in Each Subject:\n",
      "Math: 95\n",
      "Science: 98\n",
      "physis: 99\n",
      "English: 100\n",
      "History: 97\n"
     ]
    }
   ],
   "source": [
    "# 2. Compute the highest marks in each subject\n",
    "highest_marks_per_subject = np.max(marks, axis=0)\n",
    "print(\"\\nHighest Marks in Each Subject:\")\n",
    "for subject, highest in zip(subjects, highest_marks_per_subject):\n",
    "    print(f\"{subject}: {highest}\")"
   ]
  },
  {
   "cell_type": "code",
   "execution_count": 49,
   "id": "425199d6-9d1d-4177-841a-2e2b83b491ca",
   "metadata": {},
   "outputs": [
    {
     "name": "stdout",
     "output_type": "stream",
     "text": [
      "\n",
      "Average Total Marks Across All Students:\n",
      "Average Total Marks: 425.30\n"
     ]
    }
   ],
   "source": [
    "# 3. Compute the average total marks across all students\n",
    "average_total_marks = np.mean(total_marks)\n",
    "print(\"\\nAverage Total Marks Across All Students:\")\n",
    "print(f\"Average Total Marks: {average_total_marks:.2f}\")"
   ]
  },
  {
   "cell_type": "markdown",
   "id": "feb1cfcc-652e-4abc-81b8-ac1607668fc7",
   "metadata": {},
   "source": [
    "#### Data Analysis"
   ]
  },
  {
   "cell_type": "code",
   "execution_count": 50,
   "id": "5489ed2b-5e3e-4fca-bd44-e37d203c24fa",
   "metadata": {},
   "outputs": [
    {
     "name": "stdout",
     "output_type": "stream",
     "text": [
      "\n",
      "Correlation Matrix Between Subjects:\n",
      "[[1.         0.91130116 0.88395876 0.94354531 0.84376091]\n",
      " [0.91130116 1.         0.83279954 0.93901354 0.89334103]\n",
      " [0.88395876 0.83279954 1.         0.83645861 0.81865189]\n",
      " [0.94354531 0.93901354 0.83645861 1.         0.8744601 ]\n",
      " [0.84376091 0.89334103 0.81865189 0.8744601  1.        ]]\n"
     ]
    }
   ],
   "source": [
    "# 1. Find the correlation between marks in different subjects\n",
    "correlation_matrix = np.corrcoef(marks, rowvar=False)\n",
    "print(\"\\nCorrelation Matrix Between Subjects:\")\n",
    "print(correlation_matrix)\n"
   ]
  },
  {
   "cell_type": "code",
   "execution_count": 51,
   "id": "3dc005fc-3feb-4956-8d59-74b602efba3d",
   "metadata": {},
   "outputs": [
    {
     "name": "stdout",
     "output_type": "stream",
     "text": [
      "\n",
      "Student with the Highest Total Marks:\n",
      "Roll No: 108, Total Marks: [489]\n"
     ]
    }
   ],
   "source": [
    "# 2. Identify the student with the highest total marks\n",
    "index_highest_total = np.argmax(total_marks)\n",
    "student_highest_total = roll_numbers[index_highest_total]\n",
    "print(\"\\nStudent with the Highest Total Marks:\")\n",
    "print(f\"Roll No: {student_highest_total}, Total Marks: {total_marks[index_highest_total]}\")\n"
   ]
  },
  {
   "cell_type": "code",
   "execution_count": 52,
   "id": "a04b7abb-3019-42c8-a443-da6a581da17b",
   "metadata": {},
   "outputs": [
    {
     "name": "stdout",
     "output_type": "stream",
     "text": [
      "\n",
      "Number of Students Passed in Each Subject (Passing Marks = 75):\n",
      "Math: 8\n",
      "Science: 9\n",
      "physis: 8\n",
      "English: 9\n",
      "History: 8\n"
     ]
    }
   ],
   "source": [
    "# 3. Analyze how many students passed each subject (considering 75 as the passing marks)\n",
    "passing_count_per_subject = np.sum(marks >= 75, axis=0)\n",
    "print(\"\\nNumber of Students Passed in Each Subject (Passing Marks = 75):\")\n",
    "for subject, count in zip(subjects, passing_count_per_subject):\n",
    "    print(f\"{subject}: {count}\")\n"
   ]
  },
  {
   "cell_type": "markdown",
   "id": "cb0aa726-2469-4d3f-add8-a8656da87e4a",
   "metadata": {},
   "source": [
    "### Conclusion\n",
    "\n",
    "#### **The Power of NumPy in Data Science**\n",
    "\n",
    "The use of NumPy in this program showcases its immense value for data manipulation, aggregation, and analysis tasks, especially when dealing with numerical data. NumPy, a core library in the Python ecosystem, is a powerful tool for data science professionals due to its efficiency and flexibility in handling large datasets and performing complex mathematical operations.\n",
    "\n",
    "#### **Advantages of Using NumPy over Traditional Python Data Structures**\n",
    "\n",
    "1. **Performance and Efficiency:**\n",
    "   - **Speed:** NumPy is implemented in C and allows for fast execution of operations on large datasets. It leverages optimized libraries such as BLAS and LAPACK, which are critical for heavy numerical computations.\n",
    "   - **Memory Efficiency:** NumPy arrays are more memory-efficient than traditional Python lists, especially when dealing with large datasets. They require less overhead and are stored in contiguous memory locations, making them faster to access and manipulate.\n",
    "\n",
    "2. **Array Operations:**\n",
    "   - **Vectorization:** NumPy enables vectorized operations, allowing element-wise operations to be performed on entire arrays without the need for explicit loops. This leads to cleaner, more concise code and significantly improved performance.\n",
    "   - **Broadcasting:** NumPy's broadcasting feature allows operations to be performed on arrays of different shapes, facilitating tasks like adding a scalar to an entire array or performing operations between arrays of different dimensions.\n",
    "\n",
    "3. **Mathematical and Statistical Functions:**\n",
    "   - NumPy provides a wide range of mathematical and statistical functions out of the box, making it easy to perform complex calculations such as mean, median, standard deviation, correlation, and more.\n",
    "\n",
    "4. **Integration with Other Libraries:**\n",
    "   - **Seamless Integration:** NumPy arrays serve as the foundation for other key Python libraries in data science, such as pandas, SciPy, and scikit-learn. This integration allows for seamless data manipulation and analysis workflows, making it easier to transition from data preprocessing to model building.\n",
    "\n",
    "#### **Real-World Examples of NumPy’s Capabilities**\n",
    "\n",
    "1. **Machine Learning:**\n",
    "   - **Data Preprocessing:** In machine learning pipelines, NumPy is often used for tasks like normalizing data, calculating distances between data points, or even implementing gradient descent algorithms. Its speed and efficiency are critical when dealing with large datasets, as found in image processing or natural language processing tasks.\n",
    "\n",
    "2. **Financial Analysis:**\n",
    "   - **Portfolio Optimization:** NumPy is crucial in financial modeling and analysis, where tasks like computing the covariance matrix of asset returns, performing Monte Carlo simulations, and calculating Value at Risk (VaR) are common. The ability to handle large matrices and perform complex calculations quickly makes NumPy indispensable in this domain.\n",
    "\n",
    "3. **Scientific Research:**\n",
    "   - **Numerical Simulations:** Scientists rely on NumPy for simulations in physics, chemistry, and biology. For example, simulating the behavior of particles in a fluid or analyzing large-scale genetic data would be impractical with traditional Python lists due to the computational complexity and data volume involved.\n",
    "\n",
    "#### **Conclusion**\n",
    "\n",
    "In summary, NumPy is a foundational tool for any data science professional. Its capabilities in handling large-scale numerical data efficiently, combined with its integration into the broader Python ecosystem, make it essential for tasks ranging from basic data manipulation to advanced scientific computations. By leveraging NumPy, data scientists can write code that is not only faster and more memory-efficient but also more readable and maintainable, ultimately enabling more effective analysis and decision-making in various domains."
   ]
  },
  {
   "cell_type": "code",
   "execution_count": null,
   "id": "c87a3d64-e947-4e5c-9a84-9d0693ba5c9b",
   "metadata": {},
   "outputs": [],
   "source": []
  }
 ],
 "metadata": {
  "kernelspec": {
   "display_name": "Python 3 (ipykernel)",
   "language": "python",
   "name": "python3"
  },
  "language_info": {
   "codemirror_mode": {
    "name": "ipython",
    "version": 3
   },
   "file_extension": ".py",
   "mimetype": "text/x-python",
   "name": "python",
   "nbconvert_exporter": "python",
   "pygments_lexer": "ipython3",
   "version": "3.11.7"
  }
 },
 "nbformat": 4,
 "nbformat_minor": 5
}
